{
 "cells": [
  {
   "cell_type": "markdown",
   "id": "d8e93d02",
   "metadata": {},
   "source": [
    "# Parte 1: Análisis de la Base de Datos\n"
   ]
  },
  {
   "cell_type": "markdown",
   "id": "f98da8a6",
   "metadata": {},
   "source": [
    "## Objetivo\n",
    "Realizar un análisis exhaustivo de una base de datos antes de utilizarla para entrenar una red neuronal de\n",
    "clasificación."
   ]
  },
  {
   "cell_type": "markdown",
   "id": "192ac103",
   "metadata": {},
   "source": [
    "## Consigna:\n",
    "Selección de la Base de Datos:\n",
    "Elige una base de datos adecuada para un problema de clasificación. Asegúrate de que contenga al menos\n",
    "una columna objetivo y varias columnas con características.\n",
    "Análisis general de los Datos:\n",
    "### 1. Describe cada columna del conjunto de datos:\n",
    "### ¿Qué representa?\n",
    "1. **id** (int): Identificador único del paciente.\n",
    "2. **diagnosis** (string): Diagnóstico del cáncer, donde `M` representa maligno y `B` benigno.\n",
    "3. **radius_mean** (float): Promedio del radio de las células tumorales.\n",
    "4. **texture_mean** (float): Promedio de la textura de las células tumorales.\n",
    "5. **perimeter_mean** (float): Promedio del perímetro de las células tumorales.\n",
    "6. **area_mean** (float): Promedio del área ocupada por las células tumorales.\n",
    "7. **smoothness_mean** (float): Promedio de la suavidad de la superficie de las células tumorales.\n",
    "8. **compactness_mean** (float): Promedio de la compacidad de las células tumorales.\n",
    "9. **concavity_mean** (float): Promedio de la concavidad de las células tumorales.\n",
    "10. **concave points_mean** (float): Promedio de los puntos cóncavos en las células tumorales.\n",
    "11. **symmetry_mean** (float): Promedio de la simetría de las células tumorales.\n",
    "12. **fractal_dimension_mean** (float): Promedio de la dimensión fractal de las células tumorales.\n",
    "13. **radius_se** (float): Error estándar del radio de las células tumorales.\n",
    "14. **texture_se** (float): Error estándar de la textura de las células tumorales.\n",
    "15. **perimeter_se** (float): Error estándar del perímetro de las células tumorales.\n",
    "16. **area_se** (float): Error estándar del área ocupada por las células tumorales.\n",
    "17. **smoothness_se** (float): Error estándar de la suavidad de las células tumorales.\n",
    "18. **compactness_se** (float): Error estándar de la compacidad de las células tumorales.\n",
    "19. **concavity_se** (float): Error estándar de la concavidad de las células tumorales.\n",
    "20. **concave points_se** (float): Error estándar de los puntos cóncavos en las células tumorales.\n",
    "21. **symmetry_se** (float): Error estándar de la simetría de las células tumorales.\n",
    "22. **fractal_dimension_se** (float): Error estándar de la dimensión fractal de las células tumorales.\n",
    "23. **radius_worst** (float): Peor radio registrado de las células tumorales.\n",
    "24. **texture_worst** (float): Peor textura registrada de las células tumorales.\n",
    "25. **perimeter_worst** (float): Peor perímetro registrado de las células tumorales.\n",
    "26. **area_worst** (float): Peor área ocupada por las células tumorales.\n",
    "27. **smoothness_worst** (float): Peor suavidad registrada de las células tumorales.\n",
    "28. **compactness_worst** (float): Peor compacidad registrada de las células tumorales.\n",
    "29. **concavity_worst** (float): Peor concavidad registrada de las células tumorales.\n",
    "30. **concave points_worst** (float): Peor cantidad de puntos cóncavos en las células tumorales.\n",
    "31. **symmetry_worst** (float): Peor simetría registrada de las células tumorales.\n",
    "32. **fractal_dimension_worst** (float): Peor dimensión fractal de las células tumorales.\n",
    "    \n",
    "### ¿Es una variable categórica, continua, discreta, etc.?\n",
    "- **Categorica:** diagnosis.\n",
    "- **continuas:** Todas las demás variables (medias, errores estándar y peores medidas).\n",
    "\n"
   ]
  },
  {
   "cell_type": "markdown",
   "id": "324077ab",
   "metadata": {},
   "source": [
    "## 2. Análisis de Correlaciones:\n",
    "\n",
    "### Usa correlaciones para evaluar si las características son relevantes para la tarea de clasificación. Identifica las relaciones entre las características y la columna objetivo. ¿Cuáles parecen ser las más influyentes?\n",
    "\n",
    "Al analizar la matriz de correlación, se observa que las variables relacionadas con las características celulares, como el radio promedio y el perímetro promedio, presentan una fuerte correlación positiva con la variable de diagnóstico (diagnosis). Por otro lado, variables como el área de la célula y la suavidad muestran una correlación inversa significativa. Cabe aclarar que en este análisis no se tuvo en cuenta la columna ID, ya que se considera irrelevante para la evaluación de las características predictivas."
   ]
  },
  {
   "cell_type": "code",
   "execution_count": null,
   "id": "01b7fbf5",
   "metadata": {},
   "outputs": [],
   "source": [
    "## 3. Análisis de Factibilidad:\n",
    "### ¿Es esta base de datos adecuada para entrenar una red neuronal de clasificación? Justifica tu respuesta en base a los datos\n",
    "\n"
   ]
  }
 ],
 "metadata": {
  "kernelspec": {
   "display_name": "Python 3 (ipykernel)",
   "language": "python",
   "name": "python3"
  },
  "language_info": {
   "codemirror_mode": {
    "name": "ipython",
    "version": 3
   },
   "file_extension": ".py",
   "mimetype": "text/x-python",
   "name": "python",
   "nbconvert_exporter": "python",
   "pygments_lexer": "ipython3",
   "version": "3.11.5"
  }
 },
 "nbformat": 4,
 "nbformat_minor": 5
}
